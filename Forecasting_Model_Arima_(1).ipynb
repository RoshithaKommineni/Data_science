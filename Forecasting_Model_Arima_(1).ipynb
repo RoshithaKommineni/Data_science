{
  "nbformat": 4,
  "nbformat_minor": 0,
  "metadata": {
    "kernelspec": {
      "display_name": "Python 3",
      "language": "python",
      "name": "python3"
    },
    "language_info": {
      "codemirror_mode": {
        "name": "ipython",
        "version": 3
      },
      "file_extension": ".py",
      "mimetype": "text/x-python",
      "name": "python",
      "nbconvert_exporter": "python",
      "pygments_lexer": "ipython3",
      "version": "3.7.4"
    },
    "colab": {
      "name": "Forecasting_Model_Arima (1).ipynb",
      "provenance": [],
      "include_colab_link": true
    }
  },
  "cells": [
    {
      "cell_type": "markdown",
      "metadata": {
        "id": "view-in-github",
        "colab_type": "text"
      },
      "source": [
        "<a href=\"https://colab.research.google.com/github/kommineni651/Data_science/blob/main/Forecasting_Model_Arima_(1).ipynb\" target=\"_parent\"><img src=\"https://colab.research.google.com/assets/colab-badge.svg\" alt=\"Open In Colab\"/></a>"
      ]
    },
    {
      "cell_type": "code",
      "metadata": {
        "id": "pA2Im0i0q0Nj"
      },
      "source": [
        "# Import libraries\n",
        "from pandas import read_csv\n",
        "from matplotlib import pyplot\n",
        "from numpy import sqrt\n",
        "import warnings\n",
        "import itertools\n",
        "import pandas as pd\n",
        "import numpy as np\n",
        "import matplotlib.pyplot as plt\n",
        "import statsmodels.api as sm"
      ],
      "execution_count": null,
      "outputs": []
    },
    {
      "cell_type": "code",
      "metadata": {
        "id": "pRjFc7hxq0Nw"
      },
      "source": [
        "series = read_csv('water.csv', header=0, index_col=0, parse_dates=True)"
      ],
      "execution_count": null,
      "outputs": []
    },
    {
      "cell_type": "code",
      "metadata": {
        "id": "40ts1Q16q0Ny"
      },
      "source": [
        "series"
      ],
      "execution_count": null,
      "outputs": []
    },
    {
      "cell_type": "code",
      "metadata": {
        "id": "PHSUh2d7q0Ny"
      },
      "source": [
        "# line plot of time series\n",
        "from pandas import read_csv\n",
        "from matplotlib import pyplot\n",
        "series.plot()\n",
        "pyplot.show()"
      ],
      "execution_count": null,
      "outputs": []
    },
    {
      "cell_type": "code",
      "metadata": {
        "id": "zdcCQdCNq0Ny"
      },
      "source": [
        "series.hist()"
      ],
      "execution_count": null,
      "outputs": []
    },
    {
      "cell_type": "code",
      "metadata": {
        "id": "y2orvvNMq0Nz"
      },
      "source": [
        "series.plot(kind='kde')"
      ],
      "execution_count": null,
      "outputs": []
    },
    {
      "cell_type": "code",
      "metadata": {
        "id": "sofhsBmqq0N0"
      },
      "source": [
        "# separate out a validation dataset\n",
        "split_point = len(series) - 10\n",
        "dataset, validation = series[0:split_point], series[split_point:]\n",
        "print('Dataset %d, Validation %d' % (len(dataset), len(validation)))\n",
        "dataset.to_csv('dataset.csv', header=False)\n",
        "validation.to_csv('validation.csv', header=False)"
      ],
      "execution_count": null,
      "outputs": []
    },
    {
      "cell_type": "markdown",
      "metadata": {
        "id": "FLSlPjffq0N1"
      },
      "source": [
        "#### Persistence/ Base model"
      ]
    },
    {
      "cell_type": "code",
      "metadata": {
        "id": "A8dCp9Req0N2"
      },
      "source": [
        "# evaluate a persistence model\n",
        "from pandas import read_csv\n",
        "from sklearn.metrics import mean_squared_error\n",
        "from math import sqrt\n",
        "# load data\n",
        "train = read_csv('dataset.csv', header=None, index_col=0, parse_dates=True, squeeze=True)\n",
        "# prepare data\n",
        "X = train.values\n",
        "X = X.astype('float32')\n",
        "train_size = int(len(X) * 0.50)\n",
        "train, test = X[0:train_size], X[train_size:]\n"
      ],
      "execution_count": null,
      "outputs": []
    },
    {
      "cell_type": "code",
      "metadata": {
        "id": "tcJLznPJq0N2"
      },
      "source": [
        "# walk-forward validation\n",
        "history = [x for x in train]\n",
        "predictions = list()\n",
        "for i in range(len(test)):\n",
        "    yhat = history[-1]\n",
        "    predictions.append(yhat)\n",
        "# observation\n",
        "    obs = test[i]\n",
        "    history.append(obs)\n",
        "    print('>Predicted=%.3f, Expected=%.3f' % (yhat, obs))\n",
        "# report performance\n",
        "rmse = sqrt(mean_squared_error(test, predictions))\n",
        "print('RMSE: %.3f' % rmse)"
      ],
      "execution_count": null,
      "outputs": []
    },
    {
      "cell_type": "markdown",
      "metadata": {
        "id": "Umm4LSEsq0N3"
      },
      "source": [
        "#### ARIMA Hyperparameters"
      ]
    },
    {
      "cell_type": "code",
      "metadata": {
        "id": "NrgYzQ9Dq0N3"
      },
      "source": [
        "# grid search ARIMA parameters for a time series\n",
        "\n",
        "import warnings\n",
        "from pandas import read_csv\n",
        "from statsmodels.tsa.arima_model import ARIMA\n",
        "from sklearn.metrics import mean_squared_error\n",
        "from math import sqrt\n",
        "\n",
        "\n",
        "# evaluate an ARIMA model for a given order (p,d,q) and return RMSE\n",
        "def evaluate_arima_model(X, arima_order):\n",
        "# prepare training dataset\n",
        "    X = X.astype('float32')\n",
        "    train_size = int(len(X) * 0.50)\n",
        "    train, test = X[0:train_size], X[train_size:]\n",
        "    history = [x for x in train]\n",
        "# make predictions\n",
        "    predictions = list()\n",
        "    for t in range(len(test)):\n",
        "        model = ARIMA(history, order=arima_order)\n",
        "# model_fit = model.fit(disp=0)\n",
        "        model_fit = model.fit(disp=0)\n",
        "        yhat = model_fit.forecast()[0]\n",
        "        predictions.append(yhat)\n",
        "        history.append(test[t])\n",
        "# calculate out of sample error\n",
        "    rmse = sqrt(mean_squared_error(test, predictions))\n",
        "    return rmse"
      ],
      "execution_count": null,
      "outputs": []
    },
    {
      "cell_type": "markdown",
      "metadata": {
        "id": "bK-ZAQi9q0N3"
      },
      "source": [
        "#### Grid search for p,d,q values"
      ]
    },
    {
      "cell_type": "code",
      "metadata": {
        "id": "mJytXCinq0N4"
      },
      "source": [
        "# evaluate combinations of p, d and q values for an ARIMA model\n",
        "def evaluate_models(dataset, p_values, d_values, q_values):\n",
        "    dataset = dataset.astype('float32')\n",
        "    best_score, best_cfg = float('inf'), None\n",
        "    for p in p_values:\n",
        "        for d in d_values:\n",
        "            for q in q_values:\n",
        "                order = (p,d,q)\n",
        "                try:\n",
        "                    rmse = evaluate_arima_model(train, order)\n",
        "                    if rmse < best_score:\n",
        "                        best_score, best_cfg = rmse, order\n",
        "                    print('ARIMA%s RMSE=%.3f' % (order,rmse))\n",
        "                except:\n",
        "                    continue\n",
        "    print('Best ARIMA%s RMSE=%.3f' % (best_cfg, best_score))"
      ],
      "execution_count": null,
      "outputs": []
    },
    {
      "cell_type": "code",
      "metadata": {
        "id": "fThjJZVdq0N4"
      },
      "source": [
        "# load dataset\n",
        "train = read_csv('dataset.csv', header=None, index_col=0, parse_dates=True, squeeze=True)\n",
        "# evaluate parameters\n",
        "p_values = range(0, 3)\n",
        "d_values = range(0, 3)\n",
        "q_values = range(0, 3)\n",
        "warnings.filterwarnings(\"ignore\")\n",
        "evaluate_models(train.values, p_values, d_values, q_values)"
      ],
      "execution_count": null,
      "outputs": []
    },
    {
      "cell_type": "markdown",
      "metadata": {
        "id": "vbFnA7I3q0N5"
      },
      "source": [
        "#### Build Model based on the optimized values"
      ]
    },
    {
      "cell_type": "code",
      "metadata": {
        "id": "DOU5AzShq0N5"
      },
      "source": [
        "# save finalized model to file\n",
        "from pandas import read_csv\n",
        "from statsmodels.tsa.arima_model import ARIMA\n",
        "import numpy"
      ],
      "execution_count": null,
      "outputs": []
    },
    {
      "cell_type": "code",
      "metadata": {
        "id": "0uyCCxzlq0N5"
      },
      "source": [
        "# load data\n",
        "train = read_csv('dataset.csv', header=0, index_col=0, parse_dates=True)\n",
        "# prepare data\n",
        "X = train.values\n",
        "X = X.astype('float32')"
      ],
      "execution_count": null,
      "outputs": []
    },
    {
      "cell_type": "code",
      "metadata": {
        "id": "UOIyR-r9q0N6"
      },
      "source": [
        "# fit model\n",
        "model = ARIMA(X, order=(4,1,1))\n",
        "model_fit = model.fit()\n",
        "forecast=model_fit.forecast(steps=10)[0]\n",
        "model_fit.plot_predict(1, 79)"
      ],
      "execution_count": null,
      "outputs": []
    },
    {
      "cell_type": "code",
      "metadata": {
        "id": "b-zFw7tEq0N6"
      },
      "source": [
        "#Error on the test data\n",
        "val=pd.read_csv('validation.csv',header=None)\n",
        "rmse = sqrt(mean_squared_error(val[1], forecast))\n",
        "rmse"
      ],
      "execution_count": null,
      "outputs": []
    },
    {
      "cell_type": "markdown",
      "metadata": {
        "id": "RMMPPVWUq0N6"
      },
      "source": [
        "#### Combine train and test data and build final model"
      ]
    },
    {
      "cell_type": "code",
      "metadata": {
        "id": "nWOjX5XMq0N6"
      },
      "source": [
        "# fit model\n",
        "data = read_csv('water.csv', header=0, index_col=0, parse_dates=True)\n",
        "# prepare data\n",
        "X = train.values\n",
        "X = X.astype('float32')"
      ],
      "execution_count": null,
      "outputs": []
    },
    {
      "cell_type": "code",
      "metadata": {
        "id": "1KGLRzCxq0N7"
      },
      "source": [
        "model = ARIMA(X, order=(4,1,0))\n",
        "model_fit = model.fit()"
      ],
      "execution_count": null,
      "outputs": []
    },
    {
      "cell_type": "code",
      "metadata": {
        "id": "uLLCuVRuq0N7"
      },
      "source": [
        "forecast=model_fit.forecast(steps=10)[0]\n",
        "model_fit.plot_predict(1,90)"
      ],
      "execution_count": null,
      "outputs": []
    },
    {
      "cell_type": "code",
      "metadata": {
        "id": "pUuCITbJq0N8"
      },
      "source": [
        "forecast"
      ],
      "execution_count": null,
      "outputs": []
    },
    {
      "cell_type": "code",
      "metadata": {
        "id": "pMzjGYN2sCKr"
      },
      "source": [
        ""
      ],
      "execution_count": null,
      "outputs": []
    }
  ]
}