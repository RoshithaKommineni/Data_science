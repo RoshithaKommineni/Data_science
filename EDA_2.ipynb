{
  "nbformat": 4,
  "nbformat_minor": 0,
  "metadata": {
    "kernelspec": {
      "display_name": "Python 3",
      "language": "python",
      "name": "python3"
    },
    "language_info": {
      "codemirror_mode": {
        "name": "ipython",
        "version": 3
      },
      "file_extension": ".py",
      "mimetype": "text/x-python",
      "name": "python",
      "nbconvert_exporter": "python",
      "pygments_lexer": "ipython3",
      "version": "3.7.4"
    },
    "colab": {
      "name": "EDA_2.ipynb",
      "provenance": [],
      "include_colab_link": true
    }
  },
  "cells": [
    {
      "cell_type": "markdown",
      "metadata": {
        "id": "view-in-github",
        "colab_type": "text"
      },
      "source": [
        "<a href=\"https://colab.research.google.com/github/kommineni651/Data_science/blob/main/EDA_2.ipynb\" target=\"_parent\"><img src=\"https://colab.research.google.com/assets/colab-badge.svg\" alt=\"Open In Colab\"/></a>"
      ]
    },
    {
      "cell_type": "markdown",
      "metadata": {
        "id": "4zEngD4CAd6N"
      },
      "source": [
        "### Label Encoder"
      ]
    },
    {
      "cell_type": "code",
      "metadata": {
        "id": "XH1Xam-aAd6R"
      },
      "source": [
        "from sklearn.preprocessing import LabelEncoder\n",
        "import pandas as pd"
      ],
      "execution_count": null,
      "outputs": []
    },
    {
      "cell_type": "code",
      "metadata": {
        "id": "IUWaXh2JAd6T"
      },
      "source": [
        "data =pd.read_csv(\"iris.csv\",index_col=0)"
      ],
      "execution_count": null,
      "outputs": []
    },
    {
      "cell_type": "code",
      "metadata": {
        "id": "dTywbZm5Ad6T"
      },
      "source": [
        "data.head()"
      ],
      "execution_count": null,
      "outputs": []
    },
    {
      "cell_type": "code",
      "metadata": {
        "id": "ZvXj3t_2Ad6U"
      },
      "source": [
        "#Changes does not effect the \"data\" dataframe\n",
        "data1=data.copy()"
      ],
      "execution_count": null,
      "outputs": []
    },
    {
      "cell_type": "code",
      "metadata": {
        "id": "OEmJmssjAd6U"
      },
      "source": [
        "labelencoder = LabelEncoder()\n",
        "data1.iloc[:, -1] = labelencoder.fit_transform(data1.iloc[:,-1])"
      ],
      "execution_count": null,
      "outputs": []
    },
    {
      "cell_type": "code",
      "metadata": {
        "id": "1km9YkVOAd6U"
      },
      "source": [
        "data1"
      ],
      "execution_count": null,
      "outputs": []
    },
    {
      "cell_type": "markdown",
      "metadata": {
        "id": "X6iHk_JXAd6V"
      },
      "source": [
        "### One Hot Encoder"
      ]
    },
    {
      "cell_type": "markdown",
      "metadata": {
        "id": "66-8gRXCAd6W"
      },
      "source": [
        "#### Using sklearn"
      ]
    },
    {
      "cell_type": "code",
      "metadata": {
        "id": "fP1PP0lTAd6X"
      },
      "source": [
        "from sklearn.preprocessing import OneHotEncoder"
      ],
      "execution_count": null,
      "outputs": []
    },
    {
      "cell_type": "code",
      "metadata": {
        "id": "Ug4AoTUbAd6X"
      },
      "source": [
        "data2=pd.read_csv(\"iris.csv\",index_col=0)"
      ],
      "execution_count": null,
      "outputs": []
    },
    {
      "cell_type": "code",
      "metadata": {
        "id": "oHTqpsRPAd6Y"
      },
      "source": [
        "data2"
      ],
      "execution_count": null,
      "outputs": []
    },
    {
      "cell_type": "code",
      "metadata": {
        "id": "qBDNjYM_Ad6Y"
      },
      "source": [
        "# creating instance of one-hot-encoder\n",
        "enc = OneHotEncoder(handle_unknown='ignore')"
      ],
      "execution_count": null,
      "outputs": []
    },
    {
      "cell_type": "code",
      "metadata": {
        "id": "caYqCfLPAd6Y"
      },
      "source": [
        "# passing bridge-types-cat column (label encoded values of bridge_types)\n",
        "enc_df = pd.DataFrame(enc.fit_transform(data2[['Species']]).toarray())\n"
      ],
      "execution_count": null,
      "outputs": []
    },
    {
      "cell_type": "code",
      "metadata": {
        "id": "JVm3cVmBAd6Z"
      },
      "source": [
        "enc_df"
      ],
      "execution_count": null,
      "outputs": []
    },
    {
      "cell_type": "code",
      "metadata": {
        "id": "rX18bVjRAd6Z"
      },
      "source": [
        "# merge with main df \n",
        "data_final = data2.iloc[:,0:4].join(enc_df)\n",
        "data_final"
      ],
      "execution_count": null,
      "outputs": []
    },
    {
      "cell_type": "markdown",
      "metadata": {
        "id": "4zXYDxu0Ad6Z"
      },
      "source": [
        "#### Using Pandas"
      ]
    },
    {
      "cell_type": "code",
      "metadata": {
        "id": "SPB4UmPYAd6a"
      },
      "source": [
        "import pandas as pd"
      ],
      "execution_count": null,
      "outputs": []
    },
    {
      "cell_type": "code",
      "metadata": {
        "id": "CWx92Si5Ad6a"
      },
      "source": [
        "data3 =pd.read_csv(\"iris.csv\",index_col=0)"
      ],
      "execution_count": null,
      "outputs": []
    },
    {
      "cell_type": "code",
      "metadata": {
        "id": "5QDDV5dJAd6a"
      },
      "source": [
        "data_encoded=pd.get_dummies(data3)"
      ],
      "execution_count": null,
      "outputs": []
    },
    {
      "cell_type": "code",
      "metadata": {
        "id": "j5ua2MJdAd6a"
      },
      "source": [
        "data_encoded"
      ],
      "execution_count": null,
      "outputs": []
    },
    {
      "cell_type": "markdown",
      "metadata": {
        "id": "YrXxgZlkAd6b"
      },
      "source": [
        "#### IsolationForest"
      ]
    },
    {
      "cell_type": "code",
      "metadata": {
        "id": "v-pzpPhQAd6b"
      },
      "source": [
        "from sklearn.ensemble import IsolationForest"
      ],
      "execution_count": null,
      "outputs": []
    },
    {
      "cell_type": "code",
      "metadata": {
        "id": "RkrYAepSAd6b"
      },
      "source": [
        "data =pd.read_csv(\"iris.csv\",index_col=0)\n",
        "data_encoded=pd.get_dummies(data)"
      ],
      "execution_count": null,
      "outputs": []
    },
    {
      "cell_type": "code",
      "metadata": {
        "id": "YU-HrURmAd6b"
      },
      "source": [
        "# training the model\n",
        "clf = IsolationForest(random_state=10,contamination=.01)\n",
        "clf.fit(data_encoded)"
      ],
      "execution_count": null,
      "outputs": []
    },
    {
      "cell_type": "code",
      "metadata": {
        "id": "DkvHbMOvAd6c"
      },
      "source": [
        "# predictions\n",
        "y_pred_outliers = clf.predict(data_encoded)"
      ],
      "execution_count": null,
      "outputs": []
    },
    {
      "cell_type": "code",
      "metadata": {
        "id": "MU8wJJkjAd6c"
      },
      "source": [
        "#-1 for outliers and 1 for inliers.\n",
        "y_pred_outliers"
      ],
      "execution_count": null,
      "outputs": []
    },
    {
      "cell_type": "code",
      "metadata": {
        "id": "RyudOVkIAd6c"
      },
      "source": [
        "data_encoded"
      ],
      "execution_count": null,
      "outputs": []
    },
    {
      "cell_type": "code",
      "metadata": {
        "id": "mG4sP_QRAd6c"
      },
      "source": [
        "## Let us add a new data point which is outlier\n",
        "data_encoded.loc[150]=[20,40,30,50,1,0,0]"
      ],
      "execution_count": null,
      "outputs": []
    },
    {
      "cell_type": "code",
      "metadata": {
        "id": "VYTJGtF5Ad6c"
      },
      "source": [
        "data_encoded"
      ],
      "execution_count": null,
      "outputs": []
    },
    {
      "cell_type": "code",
      "metadata": {
        "id": "EDKck85VAd6c"
      },
      "source": [
        "# training the model\n",
        "clf = IsolationForest(random_state=10,contamination=.01)\n",
        "clf.fit(data_encoded)\n",
        "# predictions\n",
        "y_pred_outliers = clf.predict(data_encoded)\n",
        "y_pred_outliers"
      ],
      "execution_count": null,
      "outputs": []
    },
    {
      "cell_type": "code",
      "metadata": {
        "id": "-lXGmMVbAd6d"
      },
      "source": [
        "data_encoded['scores']=clf.decision_function(data_encoded)"
      ],
      "execution_count": null,
      "outputs": []
    },
    {
      "cell_type": "code",
      "metadata": {
        "id": "cDFXvpsYAd6d"
      },
      "source": [
        "data_encoded['anomaly']=clf.predict(data_encoded.iloc[:,0:7])"
      ],
      "execution_count": null,
      "outputs": []
    },
    {
      "cell_type": "code",
      "metadata": {
        "id": "2gee-4XXAd6d"
      },
      "source": [
        "data_encoded"
      ],
      "execution_count": null,
      "outputs": []
    },
    {
      "cell_type": "code",
      "metadata": {
        "id": "CkV2U1jUAd6d"
      },
      "source": [
        "#Print the outlier data points\n",
        "data_encoded[data_encoded['anomaly']==-1]"
      ],
      "execution_count": null,
      "outputs": []
    },
    {
      "cell_type": "markdown",
      "metadata": {
        "id": "co8d7nnwAd6d"
      },
      "source": [
        "### PPS score"
      ]
    },
    {
      "cell_type": "code",
      "metadata": {
        "id": "hWbeUV5FAd6e"
      },
      "source": [
        "#install the package\n",
        "!pip install ppscore"
      ],
      "execution_count": null,
      "outputs": []
    },
    {
      "cell_type": "code",
      "metadata": {
        "id": "3xO1ybu2Ad6e"
      },
      "source": [
        "import ppscore as pps"
      ],
      "execution_count": null,
      "outputs": []
    },
    {
      "cell_type": "code",
      "metadata": {
        "id": "2TH4XJ8PAd6e"
      },
      "source": [
        "#pps.score(df, \"feature_column\", \"target_column\")  syntax\n",
        "pps.score(data, \"Sepal.Length\", \"Petal.Length\")"
      ],
      "execution_count": null,
      "outputs": []
    },
    {
      "cell_type": "code",
      "metadata": {
        "id": "Hv4HyTaEAd6e"
      },
      "source": [
        "#calculate the whole PPS matrix\n",
        "pps.matrix(data)"
      ],
      "execution_count": null,
      "outputs": []
    },
    {
      "cell_type": "code",
      "metadata": {
        "id": "CnwliAeoAd6e"
      },
      "source": [
        ""
      ],
      "execution_count": null,
      "outputs": []
    }
  ]
}