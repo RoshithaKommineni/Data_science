{
  "nbformat": 4,
  "nbformat_minor": 0,
  "metadata": {
    "kernelspec": {
      "display_name": "Python 3",
      "language": "python",
      "name": "python3"
    },
    "language_info": {
      "codemirror_mode": {
        "name": "ipython",
        "version": 3
      },
      "file_extension": ".py",
      "mimetype": "text/x-python",
      "name": "python",
      "nbconvert_exporter": "python",
      "pygments_lexer": "ipython3",
      "version": "3.7.4"
    },
    "colab": {
      "name": "Survival_Analytics (1).ipynb",
      "provenance": [],
      "include_colab_link": true
    }
  },
  "cells": [
    {
      "cell_type": "markdown",
      "metadata": {
        "id": "view-in-github",
        "colab_type": "text"
      },
      "source": [
        "<a href=\"https://colab.research.google.com/github/kommineni651/Data_science/blob/main/Survival_Analytics_(1).ipynb\" target=\"_parent\"><img src=\"https://colab.research.google.com/assets/colab-badge.svg\" alt=\"Open In Colab\"/></a>"
      ]
    },
    {
      "cell_type": "code",
      "metadata": {
        "id": "FEDkpuqjagtT"
      },
      "source": [
        "!pip install lifelines"
      ],
      "execution_count": null,
      "outputs": []
    },
    {
      "cell_type": "code",
      "metadata": {
        "id": "mGw9p8PJagth"
      },
      "source": [
        "import pandas as pd\n",
        "from lifelines import KaplanMeierFitter"
      ],
      "execution_count": null,
      "outputs": []
    },
    {
      "cell_type": "code",
      "metadata": {
        "id": "8QM_jqVfagti"
      },
      "source": [
        "# Loading the the survival un-employment data\n",
        "survival_unemp = pd.read_csv(\"survival_unemployment.csv\")"
      ],
      "execution_count": null,
      "outputs": []
    },
    {
      "cell_type": "code",
      "metadata": {
        "id": "j8h7hMaHagti"
      },
      "source": [
        "survival_unemp.head()\n"
      ],
      "execution_count": null,
      "outputs": []
    },
    {
      "cell_type": "code",
      "metadata": {
        "id": "QsFbHP7yG7A9"
      },
      "source": [
        "survival_unemp.info()"
      ],
      "execution_count": null,
      "outputs": []
    },
    {
      "cell_type": "code",
      "metadata": {
        "id": "qPUKprcRGwN-"
      },
      "source": [
        "survival_unemp.describe()"
      ],
      "execution_count": null,
      "outputs": []
    },
    {
      "cell_type": "code",
      "metadata": {
        "id": "Xn3_y4Hua16k"
      },
      "source": [
        "survival_unemp"
      ],
      "execution_count": null,
      "outputs": []
    },
    {
      "cell_type": "code",
      "metadata": {
        "id": "OiHI4ipGagtj"
      },
      "source": [
        "survival_unemp[\"spell\"].describe()"
      ],
      "execution_count": null,
      "outputs": []
    },
    {
      "cell_type": "code",
      "metadata": {
        "id": "0nzbP1w4agtj"
      },
      "source": [
        "# Spell is referring to time \n",
        "T = survival_unemp.spell"
      ],
      "execution_count": null,
      "outputs": []
    },
    {
      "cell_type": "code",
      "metadata": {
        "id": "DqEcFlFMagtj"
      },
      "source": [
        "\n",
        "# Initiating the KaplanMeierFitter model\n",
        "kmf = KaplanMeierFitter()"
      ],
      "execution_count": null,
      "outputs": []
    },
    {
      "cell_type": "code",
      "metadata": {
        "id": "PzSX99Dgagtk"
      },
      "source": [
        "# Fitting KaplanMeierFitter model on Time and Events for death \n",
        "kmf.fit(T,event_observed=survival_unemp.event)\n",
        "# Time-line estimations plot \n",
        "kmf.plot()"
      ],
      "execution_count": null,
      "outputs": []
    },
    {
      "cell_type": "code",
      "metadata": {
        "id": "U85xDnA_agtk"
      },
      "source": [
        "# Over Multiple groups \n",
        "# For each group, here group is ui\n",
        "survival_unemp.ui.value_counts()"
      ],
      "execution_count": null,
      "outputs": []
    },
    {
      "cell_type": "code",
      "metadata": {
        "id": "DudBhkPaagtl"
      },
      "source": [
        "# Applying KaplanMeierFitter model on Time and Events for the group \"1\"\n",
        "kmf.fit(T[survival_unemp.ui==1], survival_unemp.event[survival_unemp.ui==1], label='1')\n",
        "ax = kmf.plot()\n",
        "\n",
        "# Applying KaplanMeierFitter model on Time and Events for the group \"0\"\n",
        "kmf.fit(T[survival_unemp.ui==0], survival_unemp.event[survival_unemp.ui==0], label='0')\n",
        "kmf.plot(ax=ax)\n"
      ],
      "execution_count": null,
      "outputs": []
    },
    {
      "cell_type": "code",
      "metadata": {
        "id": "04-Avi8Vagtl"
      },
      "source": [
        ""
      ],
      "execution_count": null,
      "outputs": []
    }
  ]
}